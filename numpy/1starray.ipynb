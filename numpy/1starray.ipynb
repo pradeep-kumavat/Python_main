{
 "cells": [
  {
   "cell_type": "markdown",
   "id": "93b16942-d302-403f-aa89-835cce0cab9b",
   "metadata": {},
   "source": [
    "# array initializing and general properties"
   ]
  },
  {
   "cell_type": "code",
   "execution_count": 1,
   "id": "c7a5b846-f970-44d2-a4f1-ec815beb522f",
   "metadata": {},
   "outputs": [],
   "source": [
    "import numpy as np\n"
   ]
  },
  {
   "cell_type": "code",
   "execution_count": 2,
   "id": "56ea30a2-559e-465a-8e4f-8449010956d8",
   "metadata": {},
   "outputs": [],
   "source": [
    "arr = np.array([1,12,34,5])"
   ]
  },
  {
   "cell_type": "code",
   "execution_count": 3,
   "id": "2b8a50ae-e1de-4f1f-b78c-77af8516d616",
   "metadata": {},
   "outputs": [
    {
     "name": "stdout",
     "output_type": "stream",
     "text": [
      "[ 1 12 34  5]\n"
     ]
    }
   ],
   "source": [
    "print(arr)"
   ]
  },
  {
   "cell_type": "code",
   "execution_count": 4,
   "id": "cadb2940-4bea-475f-b1f6-f9c195026a72",
   "metadata": {},
   "outputs": [
    {
     "data": {
      "text/plain": [
       "1"
      ]
     },
     "execution_count": 4,
     "metadata": {},
     "output_type": "execute_result"
    }
   ],
   "source": [
    "#get dimension\n",
    "arr.ndim"
   ]
  },
  {
   "cell_type": "code",
   "execution_count": 19,
   "id": "077b91db-252a-4633-8f37-689ff17439b3",
   "metadata": {},
   "outputs": [
    {
     "name": "stdout",
     "output_type": "stream",
     "text": [
      "[[1 2]\n",
      " [3 4]\n",
      " [5 6]]\n"
     ]
    }
   ],
   "source": [
    "arr= np.array([[1,2],[3,4],[5,6]], dtype='int32')\n",
    "print(arr)"
   ]
  },
  {
   "cell_type": "code",
   "execution_count": 6,
   "id": "c45f169c-8764-473c-aec3-8daeda438c77",
   "metadata": {},
   "outputs": [
    {
     "data": {
      "text/plain": [
       "2"
      ]
     },
     "execution_count": 6,
     "metadata": {},
     "output_type": "execute_result"
    }
   ],
   "source": [
    "arr.ndim\n"
   ]
  },
  {
   "cell_type": "code",
   "execution_count": 7,
   "id": "a6dd9862-d497-4fb3-86c8-5ef099a30f10",
   "metadata": {},
   "outputs": [],
   "source": [
    "#get shape \n"
   ]
  },
  {
   "cell_type": "code",
   "execution_count": 8,
   "id": "f4e03b3f-91dc-4768-ab4e-a01fb9c7e94c",
   "metadata": {},
   "outputs": [
    {
     "data": {
      "text/plain": [
       "(3, 2)"
      ]
     },
     "execution_count": 8,
     "metadata": {},
     "output_type": "execute_result"
    }
   ],
   "source": [
    "arr.shape\n"
   ]
  },
  {
   "cell_type": "code",
   "execution_count": 9,
   "id": "d7bee5c5-741b-4303-bc8a-48b8d84368a1",
   "metadata": {},
   "outputs": [],
   "source": [
    "#get type"
   ]
  },
  {
   "cell_type": "code",
   "execution_count": 10,
   "id": "829f113e-dbf2-4269-8bd7-dd04493db2dd",
   "metadata": {},
   "outputs": [
    {
     "data": {
      "text/plain": [
       "dtype('int32')"
      ]
     },
     "execution_count": 10,
     "metadata": {},
     "output_type": "execute_result"
    }
   ],
   "source": [
    "arr.dtype\n"
   ]
  },
  {
   "cell_type": "code",
   "execution_count": 21,
   "id": "1c67828b-eab8-4b04-8785-72e2bd206720",
   "metadata": {},
   "outputs": [
    {
     "data": {
      "text/plain": [
       "dtype('int32')"
      ]
     },
     "execution_count": 21,
     "metadata": {},
     "output_type": "execute_result"
    }
   ],
   "source": [
    "arr.dtype\n"
   ]
  },
  {
   "cell_type": "code",
   "execution_count": 20,
   "id": "1406d4e4-7acc-4d2d-8b89-97043757b0b9",
   "metadata": {},
   "outputs": [
    {
     "data": {
      "text/plain": [
       "4"
      ]
     },
     "execution_count": 20,
     "metadata": {},
     "output_type": "execute_result"
    }
   ],
   "source": [
    "arr.itemsize"
   ]
  },
  {
   "cell_type": "code",
   "execution_count": 22,
   "id": "7b2c696c-615d-46cf-81e9-da7ae75f5b48",
   "metadata": {},
   "outputs": [],
   "source": [
    "arr.dtype = \"int8\""
   ]
  },
  {
   "cell_type": "code",
   "execution_count": 23,
   "id": "0383e890-7fad-4112-839f-51607c248ef0",
   "metadata": {},
   "outputs": [
    {
     "data": {
      "text/plain": [
       "dtype('int8')"
      ]
     },
     "execution_count": 23,
     "metadata": {},
     "output_type": "execute_result"
    }
   ],
   "source": [
    "arr.dtype"
   ]
  },
  {
   "cell_type": "code",
   "execution_count": 24,
   "id": "753cccb5-6cf5-47d2-84ff-bf25771843d4",
   "metadata": {},
   "outputs": [
    {
     "data": {
      "text/plain": [
       "1"
      ]
     },
     "execution_count": 24,
     "metadata": {},
     "output_type": "execute_result"
    }
   ],
   "source": [
    "arr.itemsize"
   ]
  },
  {
   "cell_type": "code",
   "execution_count": 25,
   "id": "04c87c69-a669-4170-8fbf-40c6b9c11c95",
   "metadata": {},
   "outputs": [
    {
     "data": {
      "text/plain": [
       "24"
      ]
     },
     "execution_count": 25,
     "metadata": {},
     "output_type": "execute_result"
    }
   ],
   "source": [
    "arr.size\n"
   ]
  },
  {
   "cell_type": "code",
   "execution_count": 26,
   "id": "b489b2b3-0065-412b-a361-f9991c63c8ca",
   "metadata": {},
   "outputs": [],
   "source": [
    "a= np.array([1,2,3])"
   ]
  },
  {
   "cell_type": "code",
   "execution_count": 27,
   "id": "23a25ae8-1e21-45f1-bc93-88d82ee72261",
   "metadata": {},
   "outputs": [
    {
     "name": "stdout",
     "output_type": "stream",
     "text": [
      "[1 2 3]\n"
     ]
    }
   ],
   "source": [
    "print(a)"
   ]
  },
  {
   "cell_type": "code",
   "execution_count": 28,
   "id": "faee87f3-05e8-4564-b04b-7e780dc28ce7",
   "metadata": {},
   "outputs": [
    {
     "data": {
      "text/plain": [
       "3"
      ]
     },
     "execution_count": 28,
     "metadata": {},
     "output_type": "execute_result"
    }
   ],
   "source": [
    "a.size\n"
   ]
  },
  {
   "cell_type": "code",
   "execution_count": 29,
   "id": "39ca0d21-31f3-4265-822f-d642d2296d66",
   "metadata": {},
   "outputs": [
    {
     "data": {
      "text/plain": [
       "3"
      ]
     },
     "execution_count": 29,
     "metadata": {},
     "output_type": "execute_result"
    }
   ],
   "source": [
    "a.size\n"
   ]
  },
  {
   "cell_type": "code",
   "execution_count": 30,
   "id": "e97cf63f-a288-4bf8-9b7b-ad5841db464f",
   "metadata": {},
   "outputs": [
    {
     "data": {
      "text/plain": [
       "dtype('int32')"
      ]
     },
     "execution_count": 30,
     "metadata": {},
     "output_type": "execute_result"
    }
   ],
   "source": [
    "a.dtype\n"
   ]
  },
  {
   "cell_type": "code",
   "execution_count": 31,
   "id": "3e54b9d3-3ffe-4bef-8658-ae281f726b28",
   "metadata": {},
   "outputs": [
    {
     "data": {
      "text/plain": [
       "1"
      ]
     },
     "execution_count": 31,
     "metadata": {},
     "output_type": "execute_result"
    }
   ],
   "source": [
    "a.ndim"
   ]
  },
  {
   "cell_type": "code",
   "execution_count": 32,
   "id": "0acf8e07-db99-4190-9ae6-9086390cc138",
   "metadata": {},
   "outputs": [
    {
     "data": {
      "text/plain": [
       "(3,)"
      ]
     },
     "execution_count": 32,
     "metadata": {},
     "output_type": "execute_result"
    }
   ],
   "source": [
    "a.shape"
   ]
  },
  {
   "cell_type": "code",
   "execution_count": 33,
   "id": "0ee6b6ca-861f-4774-b55a-b185db3ffb8a",
   "metadata": {},
   "outputs": [
    {
     "data": {
      "text/plain": [
       "4"
      ]
     },
     "execution_count": 33,
     "metadata": {},
     "output_type": "execute_result"
    }
   ],
   "source": [
    "a.itemsize\n"
   ]
  },
  {
   "cell_type": "code",
   "execution_count": 34,
   "id": "6acda972-9332-40c7-96cd-ec90b448c33b",
   "metadata": {},
   "outputs": [
    {
     "data": {
      "text/plain": [
       "12"
      ]
     },
     "execution_count": 34,
     "metadata": {},
     "output_type": "execute_result"
    }
   ],
   "source": [
    "a.size * a.itemsize\n"
   ]
  },
  {
   "cell_type": "code",
   "execution_count": 35,
   "id": "36383b96-729b-4515-a1e2-b340902d5ee6",
   "metadata": {},
   "outputs": [
    {
     "data": {
      "text/plain": [
       "12"
      ]
     },
     "execution_count": 35,
     "metadata": {},
     "output_type": "execute_result"
    }
   ],
   "source": [
    "a.nbytes\n"
   ]
  },
  {
   "cell_type": "code",
   "execution_count": null,
   "id": "06b02577-42fd-41b9-8564-b9d33a33e72a",
   "metadata": {},
   "outputs": [],
   "source": []
  }
 ],
 "metadata": {
  "kernelspec": {
   "display_name": "Python 3 (ipykernel)",
   "language": "python",
   "name": "python3"
  },
  "language_info": {
   "codemirror_mode": {
    "name": "ipython",
    "version": 3
   },
   "file_extension": ".py",
   "mimetype": "text/x-python",
   "name": "python",
   "nbconvert_exporter": "python",
   "pygments_lexer": "ipython3",
   "version": "3.12.1"
  }
 },
 "nbformat": 4,
 "nbformat_minor": 5
}
