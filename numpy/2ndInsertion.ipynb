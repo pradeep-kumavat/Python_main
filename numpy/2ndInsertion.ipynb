{
 "cells": [
  {
   "cell_type": "markdown",
   "id": "db5a9541-7242-4a81-91af-5ff67b166b63",
   "metadata": {},
   "source": [
    "# Accessing /changing specific elements/row/column"
   ]
  },
  {
   "cell_type": "code",
   "execution_count": 1,
   "id": "622678e7-59ed-437c-aa21-812e15c4eac1",
   "metadata": {},
   "outputs": [],
   "source": [
    "import numpy as np"
   ]
  },
  {
   "cell_type": "code",
   "execution_count": 3,
   "id": "25810981-ceb9-43c3-8538-54a2346a25df",
   "metadata": {},
   "outputs": [
    {
     "name": "stdout",
     "output_type": "stream",
     "text": [
      "[[ 1  2  3  4  5]\n",
      " [ 6  7  8  9 10]]\n"
     ]
    }
   ],
   "source": [
    "arr = np.array([[1,2,3,4,5],[6,7,8,9,10]])\n",
    "print(arr)"
   ]
  },
  {
   "cell_type": "code",
   "execution_count": 4,
   "id": "f18eefcf-61b1-4801-a558-43c22328b59b",
   "metadata": {},
   "outputs": [],
   "source": [
    "#accessing elements"
   ]
  },
  {
   "cell_type": "code",
   "execution_count": 5,
   "id": "05ff959a-8f81-4e43-be03-bb69cef08601",
   "metadata": {},
   "outputs": [
    {
     "data": {
      "text/plain": [
       "5"
      ]
     },
     "execution_count": 5,
     "metadata": {},
     "output_type": "execute_result"
    }
   ],
   "source": [
    "arr[0,4]"
   ]
  },
  {
   "cell_type": "code",
   "execution_count": 6,
   "id": "c20efec8-1cf0-45d5-afcb-37a2bbfbbe37",
   "metadata": {},
   "outputs": [
    {
     "data": {
      "text/plain": [
       "9"
      ]
     },
     "execution_count": 6,
     "metadata": {},
     "output_type": "execute_result"
    }
   ],
   "source": [
    "arr[1,3\n",
    "]"
   ]
  },
  {
   "cell_type": "code",
   "execution_count": 7,
   "id": "0a188789-8368-4147-bad8-c9af75ea137f",
   "metadata": {},
   "outputs": [],
   "source": [
    "#accessing row or columns"
   ]
  },
  {
   "cell_type": "code",
   "execution_count": 8,
   "id": "91636908-676f-495c-8a60-14a7a9307108",
   "metadata": {},
   "outputs": [
    {
     "data": {
      "text/plain": [
       "array([1, 2, 3, 4, 5])"
      ]
     },
     "execution_count": 8,
     "metadata": {},
     "output_type": "execute_result"
    }
   ],
   "source": [
    "arr[0,]"
   ]
  },
  {
   "cell_type": "code",
   "execution_count": 9,
   "id": "162950db-61b7-4c54-81c8-5f744705a1d4",
   "metadata": {},
   "outputs": [
    {
     "data": {
      "text/plain": [
       "array([1, 2, 3, 4, 5])"
      ]
     },
     "execution_count": 9,
     "metadata": {},
     "output_type": "execute_result"
    }
   ],
   "source": [
    "arr[0,:]"
   ]
  },
  {
   "cell_type": "code",
   "execution_count": 10,
   "id": "60943c2b-ae57-4abe-a6b3-f0eec1ff8d84",
   "metadata": {},
   "outputs": [
    {
     "data": {
      "text/plain": [
       "array([ 6,  7,  8,  9, 10])"
      ]
     },
     "execution_count": 10,
     "metadata": {},
     "output_type": "execute_result"
    }
   ],
   "source": [
    "arr[1,]"
   ]
  },
  {
   "cell_type": "code",
   "execution_count": 11,
   "id": "98478be6-5e85-4fc3-acde-fe830e59d1e5",
   "metadata": {},
   "outputs": [],
   "source": [
    "#get specific elements in row"
   ]
  },
  {
   "cell_type": "code",
   "execution_count": 12,
   "id": "8996c343-51b7-45bd-a5bf-0add970b2f39",
   "metadata": {},
   "outputs": [
    {
     "data": {
      "text/plain": [
       "array([2, 3, 4, 5])"
      ]
     },
     "execution_count": 12,
     "metadata": {},
     "output_type": "execute_result"
    }
   ],
   "source": [
    "arr[0, 1:6]"
   ]
  },
  {
   "cell_type": "code",
   "execution_count": 13,
   "id": "1d253fa9-5929-481d-8fb2-9384f6c05637",
   "metadata": {},
   "outputs": [
    {
     "data": {
      "text/plain": [
       "array([ 9, 10])"
      ]
     },
     "execution_count": 13,
     "metadata": {},
     "output_type": "execute_result"
    }
   ],
   "source": [
    "arr[1, 3:5]"
   ]
  },
  {
   "cell_type": "code",
   "execution_count": 14,
   "id": "678d01af-a3fd-4aa5-b21f-f40acef26357",
   "metadata": {},
   "outputs": [
    {
     "data": {
      "text/plain": [
       "array([ 6,  7,  8,  9, 10])"
      ]
     },
     "execution_count": 14,
     "metadata": {},
     "output_type": "execute_result"
    }
   ],
   "source": [
    "arr[1, 0:5:1]"
   ]
  },
  {
   "cell_type": "code",
   "execution_count": 15,
   "id": "e4b82f50-7779-4a56-a598-3b5c77ee8495",
   "metadata": {},
   "outputs": [
    {
     "data": {
      "text/plain": [
       "array([ 6,  8, 10])"
      ]
     },
     "execution_count": 15,
     "metadata": {},
     "output_type": "execute_result"
    }
   ],
   "source": [
    "arr[1,0:5:2]"
   ]
  },
  {
   "cell_type": "code",
   "execution_count": 16,
   "id": "7a4081c1-806f-49f6-ad52-c4e91e741fd7",
   "metadata": {},
   "outputs": [
    {
     "ename": "IndexError",
     "evalue": "index 5 is out of bounds for axis 1 with size 5",
     "output_type": "error",
     "traceback": [
      "\u001b[1;31m---------------------------------------------------------------------------\u001b[0m",
      "\u001b[1;31mIndexError\u001b[0m                                Traceback (most recent call last)",
      "Cell \u001b[1;32mIn[16], line 1\u001b[0m\n\u001b[1;32m----> 1\u001b[0m \u001b[43marr\u001b[49m\u001b[43m[\u001b[49m\u001b[38;5;241;43m1\u001b[39;49m\u001b[43m,\u001b[49m\u001b[38;5;241;43m5\u001b[39;49m\u001b[43m]\u001b[49m\u001b[38;5;241m=\u001b[39m\u001b[38;5;241m12\u001b[39m\n",
      "\u001b[1;31mIndexError\u001b[0m: index 5 is out of bounds for axis 1 with size 5"
     ]
    }
   ],
   "source": [
    "arr[1,5]=12"
   ]
  },
  {
   "cell_type": "code",
   "execution_count": 17,
   "id": "682f1e8d-6d9a-4c6e-b7f4-23d19e8f973d",
   "metadata": {},
   "outputs": [
    {
     "data": {
      "text/plain": [
       "10"
      ]
     },
     "execution_count": 17,
     "metadata": {},
     "output_type": "execute_result"
    }
   ],
   "source": [
    "arr[1,4]"
   ]
  },
  {
   "cell_type": "code",
   "execution_count": 18,
   "id": "303b937d-4f56-46a4-867c-266fee8758ae",
   "metadata": {},
   "outputs": [
    {
     "name": "stdout",
     "output_type": "stream",
     "text": [
      "[[ 1  2  3  4  5]\n",
      " [ 6  7  8  9 45]]\n"
     ]
    }
   ],
   "source": [
    "arr[1,4]=45\n",
    "print(arr)"
   ]
  },
  {
   "cell_type": "code",
   "execution_count": 21,
   "id": "54a5b7d0-7547-4f2e-8c1f-b039222f4a79",
   "metadata": {},
   "outputs": [
    {
     "name": "stdout",
     "output_type": "stream",
     "text": [
      "[[99 99 99 99 99]\n",
      " [99 99 99 99 99]]\n"
     ]
    }
   ],
   "source": [
    "print(arr)"
   ]
  },
  {
   "cell_type": "code",
   "execution_count": 22,
   "id": "5b86cc82-a649-46fc-8b6a-0c2724082586",
   "metadata": {},
   "outputs": [
    {
     "name": "stdout",
     "output_type": "stream",
     "text": [
      "[[99 99 99 99 99]\n",
      " [99 99 99 99 99]]\n"
     ]
    }
   ],
   "source": [
    "print(arr)"
   ]
  },
  {
   "cell_type": "code",
   "execution_count": 23,
   "id": "0e2ad6ef-7c35-4da1-850f-55de83de7464",
   "metadata": {},
   "outputs": [],
   "source": [
    "arr = np.array([[1,2,3,4,5],[6,7,8,9,10]])\n"
   ]
  },
  {
   "cell_type": "code",
   "execution_count": 24,
   "id": "17b28792-e038-48ce-b95f-efc90189c5f1",
   "metadata": {},
   "outputs": [
    {
     "name": "stdout",
     "output_type": "stream",
     "text": [
      "[[ 1  2  3  4  5]\n",
      " [ 6  7  8  9 10]]\n"
     ]
    }
   ],
   "source": [
    "print(arr)"
   ]
  },
  {
   "cell_type": "code",
   "execution_count": 25,
   "id": "2a953c15-b7b0-4164-819d-54d5692afad6",
   "metadata": {},
   "outputs": [
    {
     "name": "stdout",
     "output_type": "stream",
     "text": [
      "[[ 1  2 34  4  5]\n",
      " [ 6  7 34  9 10]]\n"
     ]
    }
   ],
   "source": [
    "arr[:,2]=34\n",
    "print(arr)"
   ]
  },
  {
   "cell_type": "code",
   "execution_count": 26,
   "id": "921e78e9-42e3-4f2a-bc01-b07f1e8e6f35",
   "metadata": {},
   "outputs": [
    {
     "name": "stdout",
     "output_type": "stream",
     "text": [
      "[[ 1  2 11  4  5]\n",
      " [ 6  7 22  9 10]]\n"
     ]
    }
   ],
   "source": [
    "arr[:,2]=[11,22]\n",
    "print(arr)"
   ]
  },
  {
   "cell_type": "code",
   "execution_count": 32,
   "id": "3c091c13-d56b-4241-8bd7-c86d3e7229f3",
   "metadata": {},
   "outputs": [],
   "source": [
    "b= np.array([[[1,2,3,4],[5,6,7,8]],[[9,10,11,12],[13,14,15,16]]])"
   ]
  },
  {
   "cell_type": "code",
   "execution_count": 30,
   "id": "ecf62337-09be-4d73-91a5-658d67896e0e",
   "metadata": {},
   "outputs": [
    {
     "data": {
      "text/plain": [
       "3"
      ]
     },
     "execution_count": 30,
     "metadata": {},
     "output_type": "execute_result"
    }
   ],
   "source": [
    "b[0,1,0]"
   ]
  },
  {
   "cell_type": "code",
   "execution_count": 31,
   "id": "2ad4f878-ef1a-4193-bd8c-b84179470e1e",
   "metadata": {},
   "outputs": [
    {
     "data": {
      "text/plain": [
       "array([[3]])"
      ]
     },
     "execution_count": 31,
     "metadata": {},
     "output_type": "execute_result"
    }
   ],
   "source": [
    "b[:,1,:1]"
   ]
  },
  {
   "cell_type": "code",
   "execution_count": 33,
   "id": "5a64c18c-8c1b-426c-ac17-9a21c6e85fbc",
   "metadata": {},
   "outputs": [
    {
     "data": {
      "text/plain": [
       "array([[ 5,  6,  7,  8],\n",
       "       [13, 14, 15, 16]])"
      ]
     },
     "execution_count": 33,
     "metadata": {},
     "output_type": "execute_result"
    }
   ],
   "source": [
    "b[:,1,:4]"
   ]
  },
  {
   "cell_type": "code",
   "execution_count": 34,
   "id": "a3a3d43b-41e4-4ed5-a474-feca3aeda6a5",
   "metadata": {},
   "outputs": [
    {
     "data": {
      "text/plain": [
       "array([5, 6, 7, 8])"
      ]
     },
     "execution_count": 34,
     "metadata": {},
     "output_type": "execute_result"
    }
   ],
   "source": [
    "b[0,1,:]"
   ]
  },
  {
   "cell_type": "code",
   "execution_count": 35,
   "id": "804102e3-01ba-4b31-980c-bb8203fd3b4b",
   "metadata": {},
   "outputs": [
    {
     "data": {
      "text/plain": [
       "array([[ 1,  2,  3,  4],\n",
       "       [ 9, 10, 11, 12]])"
      ]
     },
     "execution_count": 35,
     "metadata": {},
     "output_type": "execute_result"
    }
   ],
   "source": [
    "b[:,0,:]"
   ]
  },
  {
   "cell_type": "code",
   "execution_count": 36,
   "id": "e7cbb1e3-0bb3-4de9-bc13-b79866842760",
   "metadata": {},
   "outputs": [
    {
     "name": "stdout",
     "output_type": "stream",
     "text": [
      "[[[ 11  22  33  44]\n",
      "  [  5   6   7   8]]\n",
      "\n",
      " [[ 99 110 120 130]\n",
      "  [ 13  14  15  16]]]\n"
     ]
    }
   ],
   "source": [
    "b[:,0,:]=[[11,22,33,44],[99,110,120,130]]\n",
    "print(b)"
   ]
  },
  {
   "cell_type": "code",
   "execution_count": null,
   "id": "88f0a4ee-e810-4eba-be39-2c1640e4d53e",
   "metadata": {},
   "outputs": [],
   "source": []
  }
 ],
 "metadata": {
  "kernelspec": {
   "display_name": "Python 3 (ipykernel)",
   "language": "python",
   "name": "python3"
  },
  "language_info": {
   "codemirror_mode": {
    "name": "ipython",
    "version": 3
   },
   "file_extension": ".py",
   "mimetype": "text/x-python",
   "name": "python",
   "nbconvert_exporter": "python",
   "pygments_lexer": "ipython3",
   "version": "3.12.1"
  }
 },
 "nbformat": 4,
 "nbformat_minor": 5
}
